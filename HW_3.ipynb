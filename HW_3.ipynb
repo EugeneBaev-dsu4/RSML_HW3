{
 "cells": [
  {
   "cell_type": "markdown",
   "id": "5770c32c",
   "metadata": {},
   "source": [
    "## Задание к теме «Гибридные рекомендательные системы»"
   ]
  },
  {
   "cell_type": "markdown",
   "id": "62eb8517",
   "metadata": {},
   "source": [
    "Что делать?\n",
    "\n",
    "Датасет ml-latest\n",
    "1. Вспомнить подходы, которые мы разбирали\n",
    "2. Выбрать понравившийся подход к гибридным системам\n",
    "3. Написать свою"
   ]
  },
  {
   "cell_type": "code",
   "execution_count": 1,
   "id": "2f48f4fa",
   "metadata": {},
   "outputs": [],
   "source": [
    "import pandas as pd\n",
    "from surprise import KNNBaseline\n",
    "from surprise import Dataset\n",
    "from surprise import Reader\n",
    "from surprise import accuracy"
   ]
  },
  {
   "cell_type": "code",
   "execution_count": 3,
   "id": "4a2c5acb",
   "metadata": {},
   "outputs": [],
   "source": [
    "links = pd.read_csv('links.csv')\n",
    "movies = pd.read_csv('movies.csv')\n",
    "ratings = pd.read_csv('ratings.csv')\n",
    "tags = pd.read_csv('tags.csv')"
   ]
  },
  {
   "cell_type": "code",
   "execution_count": 4,
   "id": "14ce58f2",
   "metadata": {},
   "outputs": [],
   "source": [
    "movies_with_ratings = movies.join(ratings.set_index('movieId'), on='movieId').reset_index(drop=True)\n",
    "movies_with_ratings.dropna(inplace=True)"
   ]
  },
  {
   "cell_type": "code",
   "execution_count": 5,
   "id": "d66144bb",
   "metadata": {},
   "outputs": [],
   "source": [
    "dataset = pd.DataFrame({\n",
    "    'uid': movies_with_ratings.userId,\n",
    "    'iid': movies_with_ratings.title,\n",
    "    'rating': movies_with_ratings.rating\n",
    "})"
   ]
  },
  {
   "cell_type": "code",
   "execution_count": 7,
   "id": "50ffea23",
   "metadata": {},
   "outputs": [],
   "source": [
    "reader = Reader(rating_scale=(dataset.rating.min(), dataset.rating.max()))\n",
    "data = Dataset.load_from_df(dataset, reader)"
   ]
  },
  {
   "cell_type": "code",
   "execution_count": 8,
   "id": "0a4327e5",
   "metadata": {},
   "outputs": [],
   "source": [
    "from surprise.model_selection import train_test_split\n",
    "trainset, testset = train_test_split(data, test_size=0.15)"
   ]
  },
  {
   "cell_type": "code",
   "execution_count": 9,
   "id": "b54d8926",
   "metadata": {},
   "outputs": [
    {
     "name": "stdout",
     "output_type": "stream",
     "text": [
      "Estimating biases using als...\n",
      "Computing the pearson_baseline similarity matrix...\n",
      "Done computing similarity matrix.\n"
     ]
    },
    {
     "data": {
      "text/plain": [
       "<surprise.prediction_algorithms.knns.KNNBaseline at 0x1b1bd5c10a0>"
      ]
     },
     "execution_count": 9,
     "metadata": {},
     "output_type": "execute_result"
    }
   ],
   "source": [
    "algo1 = KNNBaseline(k=40, min_k=20, sim_options={'name': 'pearson_baseline', 'user_based': True})\n",
    "algo1.fit(trainset)"
   ]
  },
  {
   "cell_type": "code",
   "execution_count": 10,
   "id": "1ab6d378",
   "metadata": {},
   "outputs": [
    {
     "data": {
      "text/plain": [
       "2.9197234671106655"
      ]
     },
     "execution_count": 10,
     "metadata": {},
     "output_type": "execute_result"
    }
   ],
   "source": [
    "algo1.predict(uid=10, iid='Addams Family Values (1993)').est"
   ]
  },
  {
   "cell_type": "code",
   "execution_count": 11,
   "id": "9697ba9e",
   "metadata": {},
   "outputs": [
    {
     "name": "stdout",
     "output_type": "stream",
     "text": [
      "RMSE: 0.8489\n"
     ]
    },
    {
     "data": {
      "text/plain": [
       "0.8488803309301083"
      ]
     },
     "execution_count": 11,
     "metadata": {},
     "output_type": "execute_result"
    }
   ],
   "source": [
    "test_pred = algo1.test(testset)\n",
    "accuracy.rmse(test_pred, verbose=True)"
   ]
  },
  {
   "cell_type": "code",
   "execution_count": 12,
   "id": "bebb77aa",
   "metadata": {},
   "outputs": [
    {
     "name": "stderr",
     "output_type": "stream",
     "text": [
      "C:\\Users\\BEU_RU1\\AppData\\Local\\Temp/ipykernel_6856/4043758920.py:3: DeprecationWarning: `np.int` is a deprecated alias for the builtin `int`. To silence this warning, use `int` by itself. Doing this will not modify any behavior and is safe. When replacing `np.int`, you may wish to use e.g. `np.int64` or `np.int32` to specify the precision. If you wish to review your current use, check the release note link for additional information.\n",
      "Deprecated in NumPy 1.20; for more details and guidance: https://numpy.org/devdocs/release/1.20.0-notes.html#deprecations\n",
      "  algo2.fit(trainset)\n"
     ]
    },
    {
     "data": {
      "text/plain": [
       "<surprise.prediction_algorithms.co_clustering.CoClustering at 0x1b1bfbcabb0>"
      ]
     },
     "execution_count": 12,
     "metadata": {},
     "output_type": "execute_result"
    }
   ],
   "source": [
    "from surprise import CoClustering\n",
    "algo2 = CoClustering()\n",
    "algo2.fit(trainset)"
   ]
  },
  {
   "cell_type": "code",
   "execution_count": 13,
   "id": "c53be259",
   "metadata": {},
   "outputs": [
    {
     "data": {
      "text/plain": [
       "2.8068374432078604"
      ]
     },
     "execution_count": 13,
     "metadata": {},
     "output_type": "execute_result"
    }
   ],
   "source": [
    "algo2.predict(uid=10, iid='Addams Family Values (1993)').est"
   ]
  },
  {
   "cell_type": "code",
   "execution_count": 14,
   "id": "31c279b1",
   "metadata": {},
   "outputs": [
    {
     "name": "stdout",
     "output_type": "stream",
     "text": [
      "RMSE: 0.9382\n"
     ]
    },
    {
     "data": {
      "text/plain": [
       "0.9382468057156881"
      ]
     },
     "execution_count": 14,
     "metadata": {},
     "output_type": "execute_result"
    }
   ],
   "source": [
    "test_pred = algo2.test(testset)\n",
    "accuracy.rmse(test_pred, verbose=True)"
   ]
  },
  {
   "cell_type": "markdown",
   "id": "548f7c85",
   "metadata": {},
   "source": [
    "### На основе приведенных выше моделей создадим гибридную модель. CoClustering имеет высокую ошибку, но высокую скорость действия -> им будем отбирать топ 10 фильмов из тестовой выборки. А более точный, но затратный алгоритм KNNBaseline будем использовать для ранжирования топ 10, полученного на прошлом шаге."
   ]
  },
  {
   "cell_type": "code",
   "execution_count": 15,
   "id": "2cccd65e",
   "metadata": {},
   "outputs": [],
   "source": [
    "def complex_mod(algo1, algo2, testset, uid):\n",
    "    \n",
    "    user_df = pd.DataFrame(testset)\n",
    "    user_df.columns = ['uid', 'iid', 'rating']\n",
    "    user_df = user_df[user_df.uid == uid]\n",
    "    \n",
    "    user_df['Сс_rating'] = user_df.apply(lambda x: algo2.predict(uid=uid, iid=x[1]).est, axis=1)\n",
    "    \n",
    "    user_df = user_df.sort_values(by = ['Сс_rating'], ascending=False)\n",
    "    user_df = user_df[0:10]\n",
    "     \n",
    "    user_df['KNN_rating'] = user_df.apply(lambda x: algo1.predict(uid=uid, iid=x[1]).est, axis=1)\n",
    "    \n",
    "    user_df = user_df.sort_values(by = ['KNN_rating'], ascending=False)\n",
    "    user_df = user_df[:10][['iid','KNN_rating']]\n",
    "    \n",
    "    return user_df"
   ]
  },
  {
   "cell_type": "markdown",
   "id": "435b70ce",
   "metadata": {},
   "source": [
    "Лист рекомендаций для пользователя с id = 10"
   ]
  },
  {
   "cell_type": "code",
   "execution_count": 16,
   "id": "fa3ce448",
   "metadata": {},
   "outputs": [
    {
     "data": {
      "text/html": [
       "<div>\n",
       "<style scoped>\n",
       "    .dataframe tbody tr th:only-of-type {\n",
       "        vertical-align: middle;\n",
       "    }\n",
       "\n",
       "    .dataframe tbody tr th {\n",
       "        vertical-align: top;\n",
       "    }\n",
       "\n",
       "    .dataframe thead th {\n",
       "        text-align: right;\n",
       "    }\n",
       "</style>\n",
       "<table border=\"1\" class=\"dataframe\">\n",
       "  <thead>\n",
       "    <tr style=\"text-align: right;\">\n",
       "      <th></th>\n",
       "      <th>iid</th>\n",
       "      <th>KNN_rating</th>\n",
       "    </tr>\n",
       "  </thead>\n",
       "  <tbody>\n",
       "    <tr>\n",
       "      <th>186</th>\n",
       "      <td>Clerks (1994)</td>\n",
       "      <td>4.262798</td>\n",
       "    </tr>\n",
       "    <tr>\n",
       "      <th>3365</th>\n",
       "      <td>Babe (1995)</td>\n",
       "      <td>4.218581</td>\n",
       "    </tr>\n",
       "    <tr>\n",
       "      <th>14299</th>\n",
       "      <td>Mr. Holland's Opus (1995)</td>\n",
       "      <td>4.113294</td>\n",
       "    </tr>\n",
       "    <tr>\n",
       "      <th>9904</th>\n",
       "      <td>Lion King, The (1994)</td>\n",
       "      <td>4.087117</td>\n",
       "    </tr>\n",
       "    <tr>\n",
       "      <th>8348</th>\n",
       "      <td>Three Colors: Blue (Trois couleurs: Bleu) (1993)</td>\n",
       "      <td>4.011141</td>\n",
       "    </tr>\n",
       "    <tr>\n",
       "      <th>2012</th>\n",
       "      <td>Carlito's Way (1993)</td>\n",
       "      <td>3.982240</td>\n",
       "    </tr>\n",
       "    <tr>\n",
       "      <th>6472</th>\n",
       "      <td>Boys on the Side (1995)</td>\n",
       "      <td>3.822895</td>\n",
       "    </tr>\n",
       "    <tr>\n",
       "      <th>1712</th>\n",
       "      <td>Amazing Panda Adventure, The (1995)</td>\n",
       "      <td>3.717504</td>\n",
       "    </tr>\n",
       "    <tr>\n",
       "      <th>7637</th>\n",
       "      <td>Die Hard: With a Vengeance (1995)</td>\n",
       "      <td>3.643939</td>\n",
       "    </tr>\n",
       "    <tr>\n",
       "      <th>5838</th>\n",
       "      <td>River Wild, The (1994)</td>\n",
       "      <td>3.609537</td>\n",
       "    </tr>\n",
       "  </tbody>\n",
       "</table>\n",
       "</div>"
      ],
      "text/plain": [
       "                                                    iid  KNN_rating\n",
       "186                                       Clerks (1994)    4.262798\n",
       "3365                                        Babe (1995)    4.218581\n",
       "14299                         Mr. Holland's Opus (1995)    4.113294\n",
       "9904                              Lion King, The (1994)    4.087117\n",
       "8348   Three Colors: Blue (Trois couleurs: Bleu) (1993)    4.011141\n",
       "2012                               Carlito's Way (1993)    3.982240\n",
       "6472                            Boys on the Side (1995)    3.822895\n",
       "1712                Amazing Panda Adventure, The (1995)    3.717504\n",
       "7637                  Die Hard: With a Vengeance (1995)    3.643939\n",
       "5838                             River Wild, The (1994)    3.609537"
      ]
     },
     "execution_count": 16,
     "metadata": {},
     "output_type": "execute_result"
    }
   ],
   "source": [
    "complex_mod(algo1, algo2, testset, 40)"
   ]
  },
  {
   "cell_type": "code",
   "execution_count": null,
   "id": "07a0ba75",
   "metadata": {},
   "outputs": [],
   "source": []
  }
 ],
 "metadata": {
  "kernelspec": {
   "display_name": "Python 3 (ipykernel)",
   "language": "python",
   "name": "python3"
  },
  "language_info": {
   "codemirror_mode": {
    "name": "ipython",
    "version": 3
   },
   "file_extension": ".py",
   "mimetype": "text/x-python",
   "name": "python",
   "nbconvert_exporter": "python",
   "pygments_lexer": "ipython3",
   "version": "3.9.7"
  }
 },
 "nbformat": 4,
 "nbformat_minor": 5
}
