{
 "cells": [
  {
   "cell_type": "markdown",
   "id": "5770c32c",
   "metadata": {},
   "source": [
    "## Задание к теме «Гибридные рекомендательные системы»"
   ]
  },
  {
   "cell_type": "markdown",
   "id": "62eb8517",
   "metadata": {},
   "source": [
    "Что делать?\n",
    "\n",
    "Датасет ml-latest\n",
    "1. Вспомнить подходы, которые мы разбирали\n",
    "2. Выбрать понравившийся подход к гибридным системам\n",
    "3. Написать свою"
   ]
  },
  {
   "cell_type": "code",
   "execution_count": 1,
   "id": "2f48f4fa",
   "metadata": {},
   "outputs": [],
   "source": [
    "import pandas as pd\n",
    "from surprise import KNNBaseline\n",
    "from surprise import Dataset\n",
    "from surprise import Reader\n",
    "from surprise import accuracy"
   ]
  },
  {
   "cell_type": "code",
   "execution_count": 2,
   "id": "4a2c5acb",
   "metadata": {},
   "outputs": [],
   "source": [
    "links = pd.read_csv('links.csv')\n",
    "movies = pd.read_csv('movies.csv')\n",
    "ratings = pd.read_csv('ratings.csv')\n",
    "tags = pd.read_csv('tags.csv')"
   ]
  },
  {
   "cell_type": "code",
   "execution_count": 3,
   "id": "14ce58f2",
   "metadata": {},
   "outputs": [],
   "source": [
    "movies_with_ratings = movies.join(ratings.set_index('movieId'), on='movieId').reset_index(drop=True)\n",
    "movies_with_ratings.dropna(inplace=True)"
   ]
  },
  {
   "cell_type": "code",
   "execution_count": 4,
   "id": "d66144bb",
   "metadata": {},
   "outputs": [],
   "source": [
    "dataset = pd.DataFrame({\n",
    "    'uid': movies_with_ratings.userId,\n",
    "    'iid': movies_with_ratings.title,\n",
    "    'rating': movies_with_ratings.rating\n",
    "})"
   ]
  },
  {
   "cell_type": "code",
   "execution_count": 5,
   "id": "50ffea23",
   "metadata": {},
   "outputs": [],
   "source": [
    "reader = Reader(rating_scale=(dataset.rating.min(), dataset.rating.max()))\n",
    "data = Dataset.load_from_df(dataset, reader)"
   ]
  },
  {
   "cell_type": "code",
   "execution_count": 6,
   "id": "0a4327e5",
   "metadata": {},
   "outputs": [],
   "source": [
    "from surprise.model_selection import train_test_split\n",
    "trainset, testset = train_test_split(data, test_size=0.15)"
   ]
  },
  {
   "cell_type": "code",
   "execution_count": 7,
   "id": "b54d8926",
   "metadata": {},
   "outputs": [
    {
     "name": "stdout",
     "output_type": "stream",
     "text": [
      "Estimating biases using als...\n",
      "Computing the pearson_baseline similarity matrix...\n",
      "Done computing similarity matrix.\n"
     ]
    },
    {
     "data": {
      "text/plain": [
       "<surprise.prediction_algorithms.knns.KNNBaseline at 0x227f6308a60>"
      ]
     },
     "execution_count": 7,
     "metadata": {},
     "output_type": "execute_result"
    }
   ],
   "source": [
    "algo1 = KNNBaseline(k=40, min_k=20, sim_options={'name': 'pearson_baseline', 'user_based': True})\n",
    "algo1.fit(trainset)"
   ]
  },
  {
   "cell_type": "code",
   "execution_count": 8,
   "id": "1ab6d378",
   "metadata": {},
   "outputs": [
    {
     "data": {
      "text/plain": [
       "3.0021260181056277"
      ]
     },
     "execution_count": 8,
     "metadata": {},
     "output_type": "execute_result"
    }
   ],
   "source": [
    "algo1.predict(uid=15, iid='Addams Family Values (1993)').est"
   ]
  },
  {
   "cell_type": "code",
   "execution_count": 9,
   "id": "9697ba9e",
   "metadata": {},
   "outputs": [
    {
     "name": "stdout",
     "output_type": "stream",
     "text": [
      "RMSE: 0.8590\n"
     ]
    },
    {
     "data": {
      "text/plain": [
       "0.8590042967011458"
      ]
     },
     "execution_count": 9,
     "metadata": {},
     "output_type": "execute_result"
    }
   ],
   "source": [
    "test_pred = algo1.test(testset)\n",
    "accuracy.rmse(test_pred, verbose=True)"
   ]
  },
  {
   "cell_type": "code",
   "execution_count": 10,
   "id": "bebb77aa",
   "metadata": {},
   "outputs": [
    {
     "name": "stderr",
     "output_type": "stream",
     "text": [
      "C:\\Users\\BEU_RU1\\AppData\\Local\\Temp/ipykernel_15112/4043758920.py:3: DeprecationWarning: `np.int` is a deprecated alias for the builtin `int`. To silence this warning, use `int` by itself. Doing this will not modify any behavior and is safe. When replacing `np.int`, you may wish to use e.g. `np.int64` or `np.int32` to specify the precision. If you wish to review your current use, check the release note link for additional information.\n",
      "Deprecated in NumPy 1.20; for more details and guidance: https://numpy.org/devdocs/release/1.20.0-notes.html#deprecations\n",
      "  algo2.fit(trainset)\n"
     ]
    },
    {
     "data": {
      "text/plain": [
       "<surprise.prediction_algorithms.co_clustering.CoClustering at 0x227f6490bb0>"
      ]
     },
     "execution_count": 10,
     "metadata": {},
     "output_type": "execute_result"
    }
   ],
   "source": [
    "from surprise import CoClustering\n",
    "algo2 = CoClustering()\n",
    "algo2.fit(trainset)"
   ]
  },
  {
   "cell_type": "code",
   "execution_count": 11,
   "id": "c53be259",
   "metadata": {},
   "outputs": [
    {
     "data": {
      "text/plain": [
       "2.580037730902554"
      ]
     },
     "execution_count": 11,
     "metadata": {},
     "output_type": "execute_result"
    }
   ],
   "source": [
    "algo2.predict(uid=15, iid='Addams Family Values (1993)').est"
   ]
  },
  {
   "cell_type": "code",
   "execution_count": 12,
   "id": "31c279b1",
   "metadata": {},
   "outputs": [
    {
     "name": "stdout",
     "output_type": "stream",
     "text": [
      "RMSE: 0.9443\n"
     ]
    },
    {
     "data": {
      "text/plain": [
       "0.9442637511216485"
      ]
     },
     "execution_count": 12,
     "metadata": {},
     "output_type": "execute_result"
    }
   ],
   "source": [
    "test_pred = algo2.test(testset)\n",
    "accuracy.rmse(test_pred, verbose=True)"
   ]
  },
  {
   "cell_type": "markdown",
   "id": "548f7c85",
   "metadata": {},
   "source": [
    "### На основе приведенных выше моделей создадим гибридную модель. CoClustering имеет высокую ошибку, но высокую скорость действия -> им будем отбирать топ 10 фильмов из тестовой выборки. А более точный, но затратный алгоритм KNNBaseline будем использовать для ранжирования топ 10, полученного на прошлом шаге."
   ]
  },
  {
   "cell_type": "code",
   "execution_count": 13,
   "id": "2cccd65e",
   "metadata": {},
   "outputs": [],
   "source": [
    "def complex_mod(algo1, algo2, testset, uid):\n",
    "    \n",
    "    user_df = pd.DataFrame(testset)\n",
    "    user_df.columns = ['uid', 'iid', 'rating']\n",
    "    user_df = user_df[user_df.uid == uid]\n",
    "    \n",
    "    user_df['Сс_rating'] = user_df.apply(lambda x: algo2.predict(uid=uid, iid=x[1]).est, axis=1)\n",
    "    \n",
    "    user_df = user_df.sort_values(by = ['Сс_rating'], ascending=False)\n",
    "    user_df = user_df[0:10]\n",
    "     \n",
    "    user_df['KNN_rating'] = user_df.apply(lambda x: algo1.predict(uid=uid, iid=x[1]).est, axis=1)\n",
    "    \n",
    "    user_df = user_df.sort_values(by = ['KNN_rating'], ascending=False)\n",
    "    user_df = user_df[:10][['iid','KNN_rating']]\n",
    "    \n",
    "    return user_df"
   ]
  },
  {
   "cell_type": "markdown",
   "id": "435b70ce",
   "metadata": {},
   "source": [
    "Лист рекомендаций для пользователя с id = 15"
   ]
  },
  {
   "cell_type": "code",
   "execution_count": 14,
   "id": "fa3ce448",
   "metadata": {},
   "outputs": [
    {
     "data": {
      "text/html": [
       "<div>\n",
       "<style scoped>\n",
       "    .dataframe tbody tr th:only-of-type {\n",
       "        vertical-align: middle;\n",
       "    }\n",
       "\n",
       "    .dataframe tbody tr th {\n",
       "        vertical-align: top;\n",
       "    }\n",
       "\n",
       "    .dataframe thead th {\n",
       "        text-align: right;\n",
       "    }\n",
       "</style>\n",
       "<table border=\"1\" class=\"dataframe\">\n",
       "  <thead>\n",
       "    <tr style=\"text-align: right;\">\n",
       "      <th></th>\n",
       "      <th>iid</th>\n",
       "      <th>KNN_rating</th>\n",
       "    </tr>\n",
       "  </thead>\n",
       "  <tbody>\n",
       "    <tr>\n",
       "      <th>10989</th>\n",
       "      <td>Star Wars: Episode VI - Return of the Jedi (1983)</td>\n",
       "      <td>4.031197</td>\n",
       "    </tr>\n",
       "    <tr>\n",
       "      <th>9838</th>\n",
       "      <td>Shawshank Redemption, The (1994)</td>\n",
       "      <td>4.027248</td>\n",
       "    </tr>\n",
       "    <tr>\n",
       "      <th>4872</th>\n",
       "      <td>Inception (2010)</td>\n",
       "      <td>3.960030</td>\n",
       "    </tr>\n",
       "    <tr>\n",
       "      <th>14871</th>\n",
       "      <td>Fight Club (1999)</td>\n",
       "      <td>3.936455</td>\n",
       "    </tr>\n",
       "    <tr>\n",
       "      <th>3960</th>\n",
       "      <td>Back to the Future (1985)</td>\n",
       "      <td>3.887332</td>\n",
       "    </tr>\n",
       "    <tr>\n",
       "      <th>11981</th>\n",
       "      <td>Matrix, The (1999)</td>\n",
       "      <td>3.886233</td>\n",
       "    </tr>\n",
       "    <tr>\n",
       "      <th>9733</th>\n",
       "      <td>Gladiator (2000)</td>\n",
       "      <td>3.625347</td>\n",
       "    </tr>\n",
       "    <tr>\n",
       "      <th>14297</th>\n",
       "      <td>Lord of the Rings: The Fellowship of the Ring,...</td>\n",
       "      <td>3.478121</td>\n",
       "    </tr>\n",
       "    <tr>\n",
       "      <th>7234</th>\n",
       "      <td>Ronin (1998)</td>\n",
       "      <td>3.299036</td>\n",
       "    </tr>\n",
       "    <tr>\n",
       "      <th>8505</th>\n",
       "      <td>Mad Max: Fury Road (2015)</td>\n",
       "      <td>3.244357</td>\n",
       "    </tr>\n",
       "  </tbody>\n",
       "</table>\n",
       "</div>"
      ],
      "text/plain": [
       "                                                     iid  KNN_rating\n",
       "10989  Star Wars: Episode VI - Return of the Jedi (1983)    4.031197\n",
       "9838                    Shawshank Redemption, The (1994)    4.027248\n",
       "4872                                    Inception (2010)    3.960030\n",
       "14871                                  Fight Club (1999)    3.936455\n",
       "3960                           Back to the Future (1985)    3.887332\n",
       "11981                                 Matrix, The (1999)    3.886233\n",
       "9733                                    Gladiator (2000)    3.625347\n",
       "14297  Lord of the Rings: The Fellowship of the Ring,...    3.478121\n",
       "7234                                        Ronin (1998)    3.299036\n",
       "8505                           Mad Max: Fury Road (2015)    3.244357"
      ]
     },
     "execution_count": 14,
     "metadata": {},
     "output_type": "execute_result"
    }
   ],
   "source": [
    "complex_mod(algo1, algo2, testset,15)"
   ]
  },
  {
   "cell_type": "code",
   "execution_count": null,
   "id": "07a0ba75",
   "metadata": {},
   "outputs": [],
   "source": []
  }
 ],
 "metadata": {
  "kernelspec": {
   "display_name": "Python 3 (ipykernel)",
   "language": "python",
   "name": "python3"
  },
  "language_info": {
   "codemirror_mode": {
    "name": "ipython",
    "version": 3
   },
   "file_extension": ".py",
   "mimetype": "text/x-python",
   "name": "python",
   "nbconvert_exporter": "python",
   "pygments_lexer": "ipython3",
   "version": "3.9.7"
  }
 },
 "nbformat": 4,
 "nbformat_minor": 5
}
